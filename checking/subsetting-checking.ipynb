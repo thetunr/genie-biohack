{
 "cells": [
  {
   "cell_type": "code",
   "execution_count": 1,
   "metadata": {},
   "outputs": [
    {
     "name": "stderr",
     "output_type": "stream",
     "text": [
      "2024-11-09 18:43:37.269534: I tensorflow/core/util/port.cc:153] oneDNN custom operations are on. You may see slightly different numerical results due to floating-point round-off errors from different computation orders. To turn them off, set the environment variable `TF_ENABLE_ONEDNN_OPTS=0`.\n",
      "2024-11-09 18:43:37.281540: E external/local_xla/xla/stream_executor/cuda/cuda_fft.cc:477] Unable to register cuFFT factory: Attempting to register factory for plugin cuFFT when one has already been registered\n",
      "WARNING: All log messages before absl::InitializeLog() is called are written to STDERR\n",
      "E0000 00:00:1731177817.295317    3904 cuda_dnn.cc:8310] Unable to register cuDNN factory: Attempting to register factory for plugin cuDNN when one has already been registered\n",
      "E0000 00:00:1731177817.299487    3904 cuda_blas.cc:1418] Unable to register cuBLAS factory: Attempting to register factory for plugin cuBLAS when one has already been registered\n",
      "2024-11-09 18:43:37.313547: I tensorflow/core/platform/cpu_feature_guard.cc:210] This TensorFlow binary is optimized to use available CPU instructions in performance-critical operations.\n",
      "To enable the following instructions: AVX2 AVX512F AVX512_VNNI FMA, in other operations, rebuild TensorFlow with the appropriate compiler flags.\n"
     ]
    }
   ],
   "source": [
    "import os\n",
    "import numpy as np\n",
    "import pandas as pd\n",
    "from PIL import Image\n",
    "from keras.models import Model\n",
    "from keras.preprocessing import image\n",
    "from scipy.spatial import distance_matrix\n",
    "from keras.layers import Dense, GlobalAveragePooling2D\n",
    "from keras.applications.inception_v3 import InceptionV3"
   ]
  },
  {
   "cell_type": "code",
   "execution_count": 2,
   "metadata": {},
   "outputs": [],
   "source": [
    "from __future__ import print_function, division\n",
    "import torch\n",
    "from torchvision import transforms, models\n",
    "import pandas as pd\n",
    "import numpy as np\n",
    "import os\n",
    "import skimage\n",
    "from skimage import io\n",
    "import warnings\n",
    "import torch.nn as nn\n",
    "import torch.optim as optim\n",
    "from torch.utils.data.sampler import WeightedRandomSampler\n",
    "from torch.optim import lr_scheduler\n",
    "import time\n",
    "import copy\n",
    "import sys\n",
    "from sklearn.model_selection import train_test_split, KFold"
   ]
  },
  {
   "cell_type": "code",
   "execution_count": 3,
   "metadata": {},
   "outputs": [
    {
     "name": "stdout",
     "output_type": "stream",
     "text": [
      "16536\n"
     ]
    }
   ],
   "source": [
    "# Set a working path for images\n",
    "working_path = '/teamspace/studios/image-scraping/hash_image_2'\n",
    "os.chdir(working_path)\n",
    "\n",
    "# List of image filenames\n",
    "img_names = [fn for fn in os.listdir() if fn.upper().endswith('.JPG')]\n",
    "\n",
    "print(len(img_names))\n",
    "\n",
    "df = pd.read_csv('/teamspace/studios/this_studio/fitzpatrick17k.csv')\n"
   ]
  },
  {
   "cell_type": "code",
   "execution_count": 4,
   "metadata": {},
   "outputs": [
    {
     "name": "stdout",
     "output_type": "stream",
     "text": [
      "1000\n",
      "2000\n"
     ]
    }
   ],
   "source": [
    "# Counting success and failure\n",
    "# Remove row in df\n",
    "success = 0\n",
    "failure = 0\n",
    "image_names_in_csv = df['md5hash']\n",
    "\n",
    "\n",
    "progress = 0\n",
    "# Iterate over a copy of the DataFrame's index and data to allow modification\n",
    "for index, img_name in df['md5hash'].items():\n",
    "    try:\n",
    "        image = io.imread(img_name + '.jpg')\n",
    "        success += 1\n",
    "    except:\n",
    "        df = df.drop(index)  # Remove the row with the failed image\n",
    "        failure += 1\n",
    "    progress += 1\n",
    "    if progress % 1000 == 0:\n",
    "        print(progress)\n",
    "\n",
    "print(success)\n",
    "print(failure)"
   ]
  },
  {
   "cell_type": "code",
   "execution_count": null,
   "metadata": {},
   "outputs": [],
   "source": [
    "# df.to_csv(\"/teamspace/studios/this_studio/fitzpatrick17k_trunc_here.csv\", index=False)"
   ]
  }
 ],
 "metadata": {
  "language_info": {
   "name": "python"
  }
 },
 "nbformat": 4,
 "nbformat_minor": 2
}
