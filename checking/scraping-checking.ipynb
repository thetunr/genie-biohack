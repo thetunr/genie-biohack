{
 "cells": [
  {
   "cell_type": "code",
   "execution_count": 1,
   "metadata": {},
   "outputs": [],
   "source": [
    "import os\n",
    "import pandas as pd\n",
    "from PIL import Image\n",
    "import subprocess"
   ]
  },
  {
   "cell_type": "code",
   "execution_count": 11,
   "metadata": {},
   "outputs": [
    {
     "name": "stderr",
     "output_type": "stream",
     "text": [
      "  % Total    % Received % Xferd  Average Speed   Time    Time     Time  Current\n",
      "                                 Dload  Upload   Total   Spent    Left  Speed\n",
      "  0     0    0     0    0     0      0      0 --:--:-- --:--:-- --:--:--     0"
     ]
    },
    {
     "name": "stdout",
     "output_type": "stream",
     "text": [
      "Downloaded and saved.\n"
     ]
    },
    {
     "name": "stderr",
     "output_type": "stream",
     "text": [
      "100  114k  100  114k    0     0   318k      0 --:--:-- --:--:-- --:--:--  318k\n"
     ]
    }
   ],
   "source": [
    "image_path = '/teamspace/studios/this_studio/test.jpg'\n",
    "\n",
    "url = 'https://www.dermaamin.com/site/images/clinical-pic/s/seborrheic-dermatitis/seborrheic-dermatitis52.jpg'\n",
    "\n",
    "try:\n",
    "    subprocess.run([\"curl\", \"-L\", \"-o\", image_path, url], check=True)\n",
    "    print(f'Downloaded and saved.')\n",
    "except subprocess.CalledProcessError as e:\n",
    "    print(f'Failed to download {url}: {e}')\n",
    "    # failed_images.append(image_name)\n",
    "\n"
   ]
  },
  {
   "cell_type": "code",
   "execution_count": 3,
   "metadata": {},
   "outputs": [
    {
     "name": "stdout",
     "output_type": "stream",
     "text": [
      "16536\n"
     ]
    }
   ],
   "source": [
    "# Set a working path for images\n",
    "working_path = '/teamspace/studios/this_studio/hash_image_2'\n",
    "os.chdir(working_path)\n",
    "\n",
    "# List of image filenames\n",
    "img_names = [fn for fn in os.listdir() if fn.upper().endswith('.JPG')]\n",
    "\n",
    "# Length of hash_image_2\n",
    "print(len(img_names))"
   ]
  },
  {
   "cell_type": "code",
   "execution_count": 5,
   "metadata": {},
   "outputs": [
    {
     "name": "stdout",
     "output_type": "stream",
     "text": [
      "16536\n"
     ]
    }
   ],
   "source": [
    "df = pd.read_csv('/teamspace/studios/this_studio/fitzpatrick17k_trunc.csv')\n",
    "print(len(df))"
   ]
  }
 ],
 "metadata": {
  "language_info": {
   "name": "python"
  }
 },
 "nbformat": 4,
 "nbformat_minor": 2
}
